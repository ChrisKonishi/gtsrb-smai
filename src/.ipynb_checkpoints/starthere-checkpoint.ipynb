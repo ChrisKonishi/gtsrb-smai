{
 "cells": [
  {
   "cell_type": "markdown",
   "metadata": {},
   "source": [
    "# The German Traffic Sign Recognition Benchmark"
   ]
  },
  {
   "cell_type": "code",
   "execution_count": 18,
   "metadata": {
    "collapsed": true
   },
   "outputs": [],
   "source": [
    "# importing the required packages\n",
    "import numpy as np\n",
    "import matplotlib.pyplot as plt\n",
    "import os, glob\n",
    "import pickle\n",
    "import pandas as pd\n",
    "import csv\n",
    "import cv2\n",
    "import imutils\n",
    "from PIL import Image\n",
    "from skimage import exposure, feature, transform\n",
    "%matplotlib inline\n",
    "\n",
    "# classification required packages\n",
    "from sklearn import datasets\n",
    "from sklearn.naive_bayes import GaussianNB\n",
    "from sklearn.discriminant_analysis import QuadraticDiscriminantAnalysis\n",
    "from sklearn.neighbors import KNeighborsClassifier\n",
    "from sklearn.svm import SVC,LinearSVC\n",
    "from sklearn.tree import DecisionTreeClassifier\n",
    "from sklearn.multiclass import OneVsOneClassifier\n",
    "from sklearn.neural_network import MLPClassifier\n",
    "from sklearn.model_selection import cross_val_score, train_test_split\n",
    "from sklearn.externals import joblib"
   ]
  },
  {
   "cell_type": "markdown",
   "metadata": {},
   "source": [
    "## Helper Functions"
   ]
  },
  {
   "cell_type": "code",
   "execution_count": 19,
   "metadata": {
    "collapsed": true
   },
   "outputs": [],
   "source": [
    "# helper functions \n",
    "\n",
    "# function for reading the images\n",
    "# arguments: path to the traffic sign data, for example '../../GTSRB/train/Final_Training/Images/'\n",
    "# returns: list of images, list of corresponding labels \n",
    "def readTrafficSigns(rootpath):\n",
    "    '''Reads traffic sign data for German Traffic Sign Recognition Benchmark.\n",
    "\n",
    "    Arguments: path to the traffic sign data, for example '../../GTSRB/train/Final_Training/Images/'\n",
    "    Returns:   list of images, list of corresponding labels'''\n",
    "    images = [] # images\n",
    "    labels = [] # corresponding labels\n",
    "    # loop over all 42 classes\n",
    "    for c in range(0,43):\n",
    "        prefix = rootpath + '/' + format(c, '05d') + '/' # subdirectory for class\n",
    "        gtFile = open(prefix + 'GT-'+ format(c, '05d') + '.csv') # annotations file\n",
    "        gtReader = csv.reader(gtFile, delimiter=';') # csv parser for annotations file\n",
    "        gtReader.next() # skip header\n",
    "        # loop over all images in current annotations file\n",
    "        for row in gtReader:\n",
    "            images.append(plt.imread(prefix + row[0])) # the 1th column is the filename\n",
    "            labels.append(row[7]) # the 8th column is the label\n",
    "        gtFile.close()\n",
    "    return images, labels\n",
    "\n",
    "\n",
    "def rgb2gray(rgb):\n",
    "\n",
    "    r, g, b = rgb[:,:,0], rgb[:,:,1], rgb[:,:,2]\n",
    "    gray = 0.2989 * r + 0.5870 * g + 0.1140 * b\n",
    "\n",
    "    return gray\n",
    "\n",
    "def get_csv(path):\n",
    "    return [os.path.join(path,f) for f in os.listdir(path) if f.endswith('.csv')]\n",
    "\n",
    "\n",
    "def showimg_n_hog(grayimg,hogImage):\n",
    "    \n",
    "    fig, (ax1, ax2) = plt.subplots(1, 2, figsize=(8, 4), sharex=True, sharey=True)\n",
    "\n",
    "    ax1.axis('off')\n",
    "    ax1.imshow(grayimg)\n",
    "    ax1.set_title('Input image')\n",
    "    ax1.set_adjustable('box-forced')\n",
    "\n",
    "    ax2.axis('off')\n",
    "    ax2.imshow(hogImage, cmap=plt.cm.gray)\n",
    "    ax2.set_title('Histogram of Oriented Gradients')\n",
    "    ax1.set_adjustable('box-forced')\n",
    "    plt.show()\n",
    "    \n",
    "# Functions for testimages    \n",
    "testpath=\"../dataset/GTSRB/test/Final_Test/Images/\"\n",
    "def loadtestimages_from_path(testpath):\n",
    "    gtFile = get_csv(testpath)\n",
    "    filename = gtFile[0]\n",
    "    raw_data = open(filename, 'rt')\n",
    "    reader = csv.reader(raw_data, delimiter=';', quoting=csv.QUOTE_NONE)\n",
    "    reader.next()\n",
    "    testfiles = list(reader)\n",
    "    timg = []\n",
    "    testimg = []\n",
    "#     tlbl = []\n",
    "    for i in testfiles:\n",
    "    #     print (i[0],i[-1])\n",
    "        fname = os.path.join(testpath,i[0])\n",
    "        timg.append(fname)\n",
    "        tim = plt.imread(fname)\n",
    "        testimg.append(tim)\n",
    "#         label = i[-1]\n",
    "#         tlbl.append(label)\n",
    "    np.save(\"Image_n_Labels/testimagenames.npy\",timg)\n",
    "    np.save(\"Image_n_Labels/testimages.npy\",testimg)\n",
    "#     np.save(\"../../src/Traffic-Sign-Classification/Image_n_Labels/testimagelabels.npy\",tlbl)\n",
    "    return timg,testimg\n",
    "    \n",
    "def loadtestimages_from_npy():\n",
    "    timg = np.load(\"Image_n_Labels/testimagenames.npy\")\n",
    "    testimg = np.load(\"Image_n_Labels/testimages.npy\")\n",
    "#     tlbl = np.load(\"../../src/Traffic-Sign-Classification/Image_n_Labels/testimagelabels.npy\")\n",
    "    return timg,testimg"
   ]
  },
  {
   "cell_type": "markdown",
   "metadata": {},
   "source": [
    "## load training images"
   ]
  },
  {
   "cell_type": "code",
   "execution_count": 20,
   "metadata": {
    "collapsed": false
   },
   "outputs": [
    {
     "name": "stdout",
     "output_type": "stream",
     "text": [
      "Training images and labels are loaded in variables ==> X,y\n",
      "Number of training Images 39209 \n",
      "Number of Labels 39209\n"
     ]
    }
   ],
   "source": [
    "if os.path.isfile(\"Image_n_Labels/trainImages.npy\") &  os.path.isfile(\"Image_n_Labels/trainLabels.npy\") :\n",
    "    X = np.load(\"Image_n_Labels/trainImages.npy\")\n",
    "    y = np.load(\"Image_n_Labels/trainLabels.npy\")\n",
    "    print(\"Training images and labels are loaded in variables ==> X,y\")\n",
    "    print(\"Number of training Images {} \\nNumber of Labels {}\".format(len(X), len(y)))\n",
    "else:    \n",
    "    # training images and labels\n",
    "    trainImages, trainLabels = readTrafficSigns('../dataset/GTSRB/train/Final_Training/Images/')\n",
    "    np.save(\"Image_n_Labels/trainImages.npy\",trainImages)\n",
    "    np.save(\"Image_n_Labels/trainLabels.npy\",trainLabels)\n",
    "    print(\"training images and labels are read from the dataset directory\")\n",
    "    print(\"training images saved to Image_n_Labels/trainingImages.npy for further use\")\n",
    "    print(\"training labels saved to Image_n_Labels/trainingLabels.npy for further use\")"
   ]
  },
  {
   "cell_type": "code",
   "execution_count": 21,
   "metadata": {
    "collapsed": false
   },
   "outputs": [
    {
     "data": {
      "text/plain": [
       "True"
      ]
     },
     "execution_count": 21,
     "metadata": {},
     "output_type": "execute_result"
    }
   ],
   "source": [
    "os.path.isfile(\"Image_n_Labels/testimages.npy\")"
   ]
  },
  {
   "cell_type": "markdown",
   "metadata": {},
   "source": [
    "## load test images"
   ]
  },
  {
   "cell_type": "code",
   "execution_count": 22,
   "metadata": {
    "collapsed": false
   },
   "outputs": [],
   "source": [
    "if (os.path.isfile(\"Image_n_Labels/testimagenames.npy\") &  os.path.isfile(\"Image_n_Labels/testimages.npy\")):\n",
    "    timg,testimg = loadtestimages_from_npy()\n",
    "else:\n",
    "    timg,testimg = loadtestimages_from_path(testpath)"
   ]
  },
  {
   "cell_type": "code",
   "execution_count": 23,
   "metadata": {
    "collapsed": false
   },
   "outputs": [
    {
     "name": "stdout",
     "output_type": "stream",
     "text": [
      "There are total 12630 test images availabe\n",
      "Example ../../GTSRB/test/Final_Test/Images/12629.ppm\n"
     ]
    }
   ],
   "source": [
    "print(\"There are total {} test images availabe\".format(len(timg)))\n",
    "print(\"Example {}\".format(timg[12629]))"
   ]
  },
  {
   "cell_type": "code",
   "execution_count": 24,
   "metadata": {
    "collapsed": false
   },
   "outputs": [
    {
     "data": {
      "text/plain": [
       "array([  0.,   0.,   0., ...,  42.,  42.,  42.])"
      ]
     },
     "execution_count": 24,
     "metadata": {},
     "output_type": "execute_result"
    }
   ],
   "source": [
    "y.astype(\"float\")"
   ]
  },
  {
   "cell_type": "code",
   "execution_count": 25,
   "metadata": {
    "collapsed": false
   },
   "outputs": [
    {
     "data": {
      "image/png": "[encoded data removed]",
      "text/plain": [
       "<matplotlib.figure.Figure at 0x7ff00c907a50>"
      ]
     },
     "metadata": {},
     "output_type": "display_data"
    },
    {
     "name": "stdout",
     "output_type": "stream",
     "text": [
      "576\n"
     ]
    }
   ],
   "source": [
    "# simple test on single image for HoG features\n",
    "n = np.random.randint(0,len(X))\n",
    "i1 = X[n]\n",
    "grayim = rgb2gray(i1)\n",
    "gI1 = transform.resize(grayim,(40,40))\n",
    "# gI2 = cv2.resize(grayim, (40, 40), interpolation = cv2.INTER_CUBIC)\n",
    "\n",
    "(H, hogImage) = feature.hog(gI1, orientations=9, pixels_per_cell=(8,8),\n",
    "\tcells_per_block=(2, 2), transform_sqrt=True, visualise=True)\n",
    "hogImage = exposure.rescale_intensity(hogImage, out_range=(0, 255)).astype(\"uint8\")\n",
    "\n",
    "showimg_n_hog(gI1, hogImage)\n",
    "print(len(H))"
   ]
  },
  {
   "cell_type": "markdown",
   "metadata": {
    "collapsed": true
   },
   "source": [
    "## Extract HoG features over all training images "
   ]
  },
  {
   "cell_type": "code",
   "execution_count": 26,
   "metadata": {
    "collapsed": false
   },
   "outputs": [
    {
     "name": "stdout",
     "output_type": "stream",
     "text": [
      "loading from file ... \n",
      "HoG features are loaded from HoGfeatures.npy to variable ==> hogfeat\n",
      "HoG visualizations are loaded from HoGvisualize.npy to variable ==> hogviz\n"
     ]
    }
   ],
   "source": [
    "if os.path.isfile(\"HoGFeatures/HoGfeatures.npy\") & os.path.isfile(\"HoGFeatures/HoGvisualize.npy\") :\n",
    "    print(\"loading from file ... \")\n",
    "    hogfeat = np.load(\"HoGFeatures/HoGfeatures.npy\")\n",
    "    hogviz = np.load(\"HoGFeatures/HoGvisualize.npy\")\n",
    "    \n",
    "    print(\"HoG features are loaded from HoGfeatures.npy to variable ==> hogfeat\")\n",
    "    print(\"HoG visualizations are loaded from HoGvisualize.npy to variable ==> hogviz\")\n",
    "else:\n",
    "    print(\"HoGfeatures.npy does not found\")\n",
    "    Hviz = []\n",
    "    Hfeat = []\n",
    "    for i in range(0,len(X)):\n",
    "        # show an update every 1,000 images\n",
    "        if i > 0 and i % 1000 == 0:\n",
    "            print(\"[INFO] processed {}/{}\".format(i, len(X)))\n",
    "        I = X[i]\n",
    "        grayim = rgb2gray(I)\n",
    "        grayim = transform.resize(grayim,(40,40))\n",
    "\n",
    "        (H_4x4, hogImage) = feature.hog(grayim, orientations=9, pixels_per_cell=(4, 4),\n",
    "            cells_per_block=(2, 2), transform_sqrt=True, visualise=True)\n",
    "        hogImage = exposure.rescale_intensity(hogImage, out_range=(0, 255)).astype(\"uint8\")\n",
    "#         hogImage = hogImage.astype(\"uint8\")\n",
    "        Hviz.append(hogImage)\n",
    "        Hfeat.append(H_4x4)\n",
    "        # save the features using numpy save with .npy extention \n",
    "        # which reduced the storage space by 4times compared to pickle\n",
    "    np.save(\"HoGFeatures/HoGfeatures.npy\", Hfeat)\n",
    "    np.save(\"HoGFeatures/HoGvisualize.npy\", Hviz)\n",
    "    print(\"HoGfeatures.npy are saved\")  \n",
    "    print(\"HoGvisualize.npy are saved\")"
   ]
  },
  {
   "cell_type": "markdown",
   "metadata": {},
   "source": [
    "## Extract HoG features over all testing images "
   ]
  },
  {
   "cell_type": "code",
   "execution_count": 27,
   "metadata": {
    "collapsed": false
   },
   "outputs": [
    {
     "name": "stdout",
     "output_type": "stream",
     "text": [
      "HoG features are loaded from HoGfeatures_test.npy to variable ==> hogfeat_test\n",
      "HoG visualizations are loaded from HoGvisualize_test.npy to variable ==> hogviz_test\n"
     ]
    }
   ],
   "source": [
    "if os.path.isfile(\"HoGFeatures/HoGfeatures_test.npy\") & os.path.isfile(\"HoGFeatures/HoGvisualize_test.npy\") :\n",
    "    hogfeat_test = np.load(\"HoGFeatures/HoGfeatures_test.npy\")\n",
    "    hogviz_test = np.load(\"HoGFeatures/HoGvisualize_test.npy\")\n",
    "    \n",
    "    print(\"HoG features are loaded from HoGfeatures_test.npy to variable ==> hogfeat_test\")\n",
    "    print(\"HoG visualizations are loaded from HoGvisualize_test.npy to variable ==> hogviz_test\")\n",
    "else:\n",
    "    print(\"HoGfeatures_test.npy does not found\")\n",
    "    Hviz = []\n",
    "    Hfeat = []\n",
    "    for i in range(0,len(X)):\n",
    "        # show an update every 1,000 images\n",
    "        if i > 0 and i % 1000 == 0:\n",
    "            print(\"[INFO] processed {}/{}\".format(i, len(X)))\n",
    "        I = X[i]\n",
    "        grayim = rgb2gray(I)\n",
    "        grayim = transform.resize(grayim,(40,40))\n",
    "\n",
    "        (H_4x4, hogImage) = feature.hog(grayim, orientations=9, pixels_per_cell=(4, 4),\n",
    "            cells_per_block=(2, 2), transform_sqrt=True, visualise=True)\n",
    "        hogImage = exposure.rescale_intensity(hogImage, out_range=(0, 255)).astype(\"uint8\")\n",
    "    #         hogImage = hogImage.astype(\"uint8\")\n",
    "        Hviz.append(hogImage)\n",
    "        Hfeat.append(H_4x4)\n",
    "        # save the features using numpy save with .npy extention \n",
    "        # which reduced the storage space by 4times compared to pickle\n",
    "    np.save(\"HoGFeatures/HoGfeatures_test.npy\", Hfeat)\n",
    "    np.save(\"HoGFeatures/HoGvisualize_test.npy\", Hviz)\n",
    "    print(\"HoGfeatures_test.npy are saved\")  \n",
    "    print(\"HoGvisualize_test.npy are saved\")"
   ]
  },
  {
   "cell_type": "markdown",
   "metadata": {},
   "source": [
    "## converting datatype to float: training data"
   ]
  },
  {
   "cell_type": "code",
   "execution_count": 28,
   "metadata": {
    "collapsed": false
   },
   "outputs": [
    {
     "name": "stdout",
     "output_type": "stream",
     "text": [
      "((39209, 2916), (39209,))\n",
      "[  0.   1.   2.   3.   4.   5.   6.   7.   8.   9.  10.  11.  12.  13.  14.\n",
      "  15.  16.  17.  18.  19.  20.  21.  22.  23.  24.  25.  26.  27.  28.  29.\n",
      "  30.  31.  32.  33.  34.  35.  36.  37.  38.  39.  40.  41.  42.]\n"
     ]
    }
   ],
   "source": [
    "X = np.array(hogfeat).astype(\"float\")\n",
    "y = y.astype(\"float\")\n",
    "print(X.shape,y.shape)\n",
    "print(np.unique(y))"
   ]
  },
  {
   "cell_type": "markdown",
   "metadata": {},
   "source": [
    "## converting datatype to float: training data"
   ]
  },
  {
   "cell_type": "code",
   "execution_count": 29,
   "metadata": {
    "collapsed": false
   },
   "outputs": [
    {
     "name": "stdout",
     "output_type": "stream",
     "text": [
      "(12630, 2916)\n"
     ]
    }
   ],
   "source": [
    "X_t = np.array(hogfeat_test).astype(\"float\")\n",
    "print(X_t.shape)"
   ]
  },
  {
   "cell_type": "code",
   "execution_count": 30,
   "metadata": {
    "collapsed": true
   },
   "outputs": [],
   "source": [
    "X_hog = pd.DataFrame(X)"
   ]
  },
  {
   "cell_type": "code",
   "execution_count": 31,
   "metadata": {
    "collapsed": false
   },
   "outputs": [
    {
     "data": {
      "text/html": [
       "<div>\n",
       "<table border=\"1\" class=\"dataframe\">\n",
       "  <thead>\n",
       "    <tr style=\"text-align: right;\">\n",
       "      <th></th>\n",
       "      <th>0</th>\n",
       "      <th>1</th>\n",
       "      <th>2</th>\n",
       "      <th>3</th>\n",
       "      <th>4</th>\n",
       "      <th>5</th>\n",
       "      <th>6</th>\n",
       "      <th>7</th>\n",
       "      <th>8</th>\n",
       "      <th>9</th>\n",
       "      <th>...</th>\n",
       "      <th>2906</th>\n",
       "      <th>2907</th>\n",
       "      <th>2908</th>\n",
       "      <th>2909</th>\n",
       "      <th>2910</th>\n",
       "      <th>2911</th>\n",
       "      <th>2912</th>\n",
       "      <th>2913</th>\n",
       "      <th>2914</th>\n",
       "      <th>2915</th>\n",
       "    </tr>\n",
       "  </thead>\n",
       "  <tbody>\n",
       "    <tr>\n",
       "      <th>0</th>\n",
       "      <td>0.072230</td>\n",
       "      <td>0.033674</td>\n",
       "      <td>0.014052</td>\n",
       "      <td>0.012905</td>\n",
       "      <td>0.008588</td>\n",
       "      <td>0.0</td>\n",
       "      <td>0.0</td>\n",
       "      <td>0.000000</td>\n",
       "      <td>0.014921</td>\n",
       "      <td>0.087632</td>\n",
       "      <td>...</td>\n",
       "      <td>0.000000</td>\n",
       "      <td>0.050807</td>\n",
       "      <td>0.022688</td>\n",
       "      <td>0.039415</td>\n",
       "      <td>0.083773</td>\n",
       "      <td>0.062538</td>\n",
       "      <td>0.029324</td>\n",
       "      <td>0.000000</td>\n",
       "      <td>0.050438</td>\n",
       "      <td>0.000000</td>\n",
       "    </tr>\n",
       "    <tr>\n",
       "      <th>1</th>\n",
       "      <td>0.032179</td>\n",
       "      <td>0.000000</td>\n",
       "      <td>0.009637</td>\n",
       "      <td>0.013536</td>\n",
       "      <td>0.000000</td>\n",
       "      <td>0.0</td>\n",
       "      <td>0.0</td>\n",
       "      <td>0.010108</td>\n",
       "      <td>0.052713</td>\n",
       "      <td>0.075905</td>\n",
       "      <td>...</td>\n",
       "      <td>0.120012</td>\n",
       "      <td>0.089115</td>\n",
       "      <td>0.026171</td>\n",
       "      <td>0.012772</td>\n",
       "      <td>0.024310</td>\n",
       "      <td>0.087584</td>\n",
       "      <td>0.000000</td>\n",
       "      <td>0.005514</td>\n",
       "      <td>0.034753</td>\n",
       "      <td>0.040569</td>\n",
       "    </tr>\n",
       "    <tr>\n",
       "      <th>2</th>\n",
       "      <td>0.121812</td>\n",
       "      <td>0.031105</td>\n",
       "      <td>0.039984</td>\n",
       "      <td>0.000000</td>\n",
       "      <td>0.000000</td>\n",
       "      <td>0.0</td>\n",
       "      <td>0.0</td>\n",
       "      <td>0.000000</td>\n",
       "      <td>0.012812</td>\n",
       "      <td>0.100121</td>\n",
       "      <td>...</td>\n",
       "      <td>0.131397</td>\n",
       "      <td>0.049028</td>\n",
       "      <td>0.000000</td>\n",
       "      <td>0.000000</td>\n",
       "      <td>0.000960</td>\n",
       "      <td>0.058873</td>\n",
       "      <td>0.000000</td>\n",
       "      <td>0.030014</td>\n",
       "      <td>0.066235</td>\n",
       "      <td>0.000000</td>\n",
       "    </tr>\n",
       "    <tr>\n",
       "      <th>3</th>\n",
       "      <td>0.094488</td>\n",
       "      <td>0.131136</td>\n",
       "      <td>0.000000</td>\n",
       "      <td>0.000000</td>\n",
       "      <td>0.000000</td>\n",
       "      <td>0.0</td>\n",
       "      <td>0.0</td>\n",
       "      <td>0.000000</td>\n",
       "      <td>0.000000</td>\n",
       "      <td>0.133118</td>\n",
       "      <td>...</td>\n",
       "      <td>0.129733</td>\n",
       "      <td>0.038213</td>\n",
       "      <td>0.000000</td>\n",
       "      <td>0.000000</td>\n",
       "      <td>0.014868</td>\n",
       "      <td>0.025527</td>\n",
       "      <td>0.000000</td>\n",
       "      <td>0.027597</td>\n",
       "      <td>0.032608</td>\n",
       "      <td>0.012159</td>\n",
       "    </tr>\n",
       "    <tr>\n",
       "      <th>4</th>\n",
       "      <td>0.039229</td>\n",
       "      <td>0.117052</td>\n",
       "      <td>0.009980</td>\n",
       "      <td>0.000000</td>\n",
       "      <td>0.000601</td>\n",
       "      <td>0.0</td>\n",
       "      <td>0.0</td>\n",
       "      <td>0.000000</td>\n",
       "      <td>0.011472</td>\n",
       "      <td>0.058563</td>\n",
       "      <td>...</td>\n",
       "      <td>0.051272</td>\n",
       "      <td>0.068669</td>\n",
       "      <td>0.020195</td>\n",
       "      <td>0.000000</td>\n",
       "      <td>0.040250</td>\n",
       "      <td>0.028077</td>\n",
       "      <td>0.000000</td>\n",
       "      <td>0.000000</td>\n",
       "      <td>0.050481</td>\n",
       "      <td>0.032100</td>\n",
       "    </tr>\n",
       "  </tbody>\n",
       "</table>\n",
       "<p>5 rows × 2916 columns</p>\n",
       "</div>"
      ],
      "text/plain": [
       "       0         1         2         3         4     5     6         7     \\\n",
       "0  0.072230  0.033674  0.014052  0.012905  0.008588   0.0   0.0  0.000000   \n",
       "1  0.032179  0.000000  0.009637  0.013536  0.000000   0.0   0.0  0.010108   \n",
       "2  0.121812  0.031105  0.039984  0.000000  0.000000   0.0   0.0  0.000000   \n",
       "3  0.094488  0.131136  0.000000  0.000000  0.000000   0.0   0.0  0.000000   \n",
       "4  0.039229  0.117052  0.009980  0.000000  0.000601   0.0   0.0  0.000000   \n",
       "\n",
       "       8         9       ...         2906      2907      2908      2909  \\\n",
       "0  0.014921  0.087632    ...     0.000000  0.050807  0.022688  0.039415   \n",
       "1  0.052713  0.075905    ...     0.120012  0.089115  0.026171  0.012772   \n",
       "2  0.012812  0.100121    ...     0.131397  0.049028  0.000000  0.000000   \n",
       "3  0.000000  0.133118    ...     0.129733  0.038213  0.000000  0.000000   \n",
       "4  0.011472  0.058563    ...     0.051272  0.068669  0.020195  0.000000   \n",
       "\n",
       "       2910      2911      2912      2913      2914      2915  \n",
       "0  0.083773  0.062538  0.029324  0.000000  0.050438  0.000000  \n",
       "1  0.024310  0.087584  0.000000  0.005514  0.034753  0.040569  \n",
       "2  0.000960  0.058873  0.000000  0.030014  0.066235  0.000000  \n",
       "3  0.014868  0.025527  0.000000  0.027597  0.032608  0.012159  \n",
       "4  0.040250  0.028077  0.000000  0.000000  0.050481  0.032100  \n",
       "\n",
       "[5 rows x 2916 columns]"
      ]
     },
     "execution_count": 31,
     "metadata": {},
     "output_type": "execute_result"
    }
   ],
   "source": [
    "X_hog.head()"
   ]
  },
  {
   "cell_type": "code",
   "execution_count": 32,
   "metadata": {
    "collapsed": false
   },
   "outputs": [
    {
     "data": {
      "text/html": [
       "<div>\n",
       "<table border=\"1\" class=\"dataframe\">\n",
       "  <thead>\n",
       "    <tr style=\"text-align: right;\">\n",
       "      <th></th>\n",
       "      <th>0</th>\n",
       "    </tr>\n",
       "  </thead>\n",
       "  <tbody>\n",
       "    <tr>\n",
       "      <th>0</th>\n",
       "      <td>0.0</td>\n",
       "    </tr>\n",
       "    <tr>\n",
       "      <th>1</th>\n",
       "      <td>0.0</td>\n",
       "    </tr>\n",
       "    <tr>\n",
       "      <th>2</th>\n",
       "      <td>0.0</td>\n",
       "    </tr>\n",
       "    <tr>\n",
       "      <th>3</th>\n",
       "      <td>0.0</td>\n",
       "    </tr>\n",
       "    <tr>\n",
       "      <th>4</th>\n",
       "      <td>0.0</td>\n",
       "    </tr>\n",
       "    <tr>\n",
       "      <th>5</th>\n",
       "      <td>0.0</td>\n",
       "    </tr>\n",
       "    <tr>\n",
       "      <th>6</th>\n",
       "      <td>0.0</td>\n",
       "    </tr>\n",
       "    <tr>\n",
       "      <th>7</th>\n",
       "      <td>0.0</td>\n",
       "    </tr>\n",
       "    <tr>\n",
       "      <th>8</th>\n",
       "      <td>0.0</td>\n",
       "    </tr>\n",
       "    <tr>\n",
       "      <th>9</th>\n",
       "      <td>0.0</td>\n",
       "    </tr>\n",
       "    <tr>\n",
       "      <th>10</th>\n",
       "      <td>0.0</td>\n",
       "    </tr>\n",
       "    <tr>\n",
       "      <th>11</th>\n",
       "      <td>0.0</td>\n",
       "    </tr>\n",
       "    <tr>\n",
       "      <th>12</th>\n",
       "      <td>0.0</td>\n",
       "    </tr>\n",
       "    <tr>\n",
       "      <th>13</th>\n",
       "      <td>0.0</td>\n",
       "    </tr>\n",
       "    <tr>\n",
       "      <th>14</th>\n",
       "      <td>0.0</td>\n",
       "    </tr>\n",
       "    <tr>\n",
       "      <th>15</th>\n",
       "      <td>0.0</td>\n",
       "    </tr>\n",
       "    <tr>\n",
       "      <th>16</th>\n",
       "      <td>0.0</td>\n",
       "    </tr>\n",
       "    <tr>\n",
       "      <th>17</th>\n",
       "      <td>0.0</td>\n",
       "    </tr>\n",
       "    <tr>\n",
       "      <th>18</th>\n",
       "      <td>0.0</td>\n",
       "    </tr>\n",
       "    <tr>\n",
       "      <th>19</th>\n",
       "      <td>0.0</td>\n",
       "    </tr>\n",
       "    <tr>\n",
       "      <th>20</th>\n",
       "      <td>0.0</td>\n",
       "    </tr>\n",
       "    <tr>\n",
       "      <th>21</th>\n",
       "      <td>0.0</td>\n",
       "    </tr>\n",
       "    <tr>\n",
       "      <th>22</th>\n",
       "      <td>0.0</td>\n",
       "    </tr>\n",
       "    <tr>\n",
       "      <th>23</th>\n",
       "      <td>0.0</td>\n",
       "    </tr>\n",
       "    <tr>\n",
       "      <th>24</th>\n",
       "      <td>0.0</td>\n",
       "    </tr>\n",
       "    <tr>\n",
       "      <th>25</th>\n",
       "      <td>0.0</td>\n",
       "    </tr>\n",
       "    <tr>\n",
       "      <th>26</th>\n",
       "      <td>0.0</td>\n",
       "    </tr>\n",
       "    <tr>\n",
       "      <th>27</th>\n",
       "      <td>0.0</td>\n",
       "    </tr>\n",
       "    <tr>\n",
       "      <th>28</th>\n",
       "      <td>0.0</td>\n",
       "    </tr>\n",
       "    <tr>\n",
       "      <th>29</th>\n",
       "      <td>0.0</td>\n",
       "    </tr>\n",
       "    <tr>\n",
       "      <th>...</th>\n",
       "      <td>...</td>\n",
       "    </tr>\n",
       "    <tr>\n",
       "      <th>39179</th>\n",
       "      <td>42.0</td>\n",
       "    </tr>\n",
       "    <tr>\n",
       "      <th>39180</th>\n",
       "      <td>42.0</td>\n",
       "    </tr>\n",
       "    <tr>\n",
       "      <th>39181</th>\n",
       "      <td>42.0</td>\n",
       "    </tr>\n",
       "    <tr>\n",
       "      <th>39182</th>\n",
       "      <td>42.0</td>\n",
       "    </tr>\n",
       "    <tr>\n",
       "      <th>39183</th>\n",
       "      <td>42.0</td>\n",
       "    </tr>\n",
       "    <tr>\n",
       "      <th>39184</th>\n",
       "      <td>42.0</td>\n",
       "    </tr>\n",
       "    <tr>\n",
       "      <th>39185</th>\n",
       "      <td>42.0</td>\n",
       "    </tr>\n",
       "    <tr>\n",
       "      <th>39186</th>\n",
       "      <td>42.0</td>\n",
       "    </tr>\n",
       "    <tr>\n",
       "      <th>39187</th>\n",
       "      <td>42.0</td>\n",
       "    </tr>\n",
       "    <tr>\n",
       "      <th>39188</th>\n",
       "      <td>42.0</td>\n",
       "    </tr>\n",
       "    <tr>\n",
       "      <th>39189</th>\n",
       "      <td>42.0</td>\n",
       "    </tr>\n",
       "    <tr>\n",
       "      <th>39190</th>\n",
       "      <td>42.0</td>\n",
       "    </tr>\n",
       "    <tr>\n",
       "      <th>39191</th>\n",
       "      <td>42.0</td>\n",
       "    </tr>\n",
       "    <tr>\n",
       "      <th>39192</th>\n",
       "      <td>42.0</td>\n",
       "    </tr>\n",
       "    <tr>\n",
       "      <th>39193</th>\n",
       "      <td>42.0</td>\n",
       "    </tr>\n",
       "    <tr>\n",
       "      <th>39194</th>\n",
       "      <td>42.0</td>\n",
       "    </tr>\n",
       "    <tr>\n",
       "      <th>39195</th>\n",
       "      <td>42.0</td>\n",
       "    </tr>\n",
       "    <tr>\n",
       "      <th>39196</th>\n",
       "      <td>42.0</td>\n",
       "    </tr>\n",
       "    <tr>\n",
       "      <th>39197</th>\n",
       "      <td>42.0</td>\n",
       "    </tr>\n",
       "    <tr>\n",
       "      <th>39198</th>\n",
       "      <td>42.0</td>\n",
       "    </tr>\n",
       "    <tr>\n",
       "      <th>39199</th>\n",
       "      <td>42.0</td>\n",
       "    </tr>\n",
       "    <tr>\n",
       "      <th>39200</th>\n",
       "      <td>42.0</td>\n",
       "    </tr>\n",
       "    <tr>\n",
       "      <th>39201</th>\n",
       "      <td>42.0</td>\n",
       "    </tr>\n",
       "    <tr>\n",
       "      <th>39202</th>\n",
       "      <td>42.0</td>\n",
       "    </tr>\n",
       "    <tr>\n",
       "      <th>39203</th>\n",
       "      <td>42.0</td>\n",
       "    </tr>\n",
       "    <tr>\n",
       "      <th>39204</th>\n",
       "      <td>42.0</td>\n",
       "    </tr>\n",
       "    <tr>\n",
       "      <th>39205</th>\n",
       "      <td>42.0</td>\n",
       "    </tr>\n",
       "    <tr>\n",
       "      <th>39206</th>\n",
       "      <td>42.0</td>\n",
       "    </tr>\n",
       "    <tr>\n",
       "      <th>39207</th>\n",
       "      <td>42.0</td>\n",
       "    </tr>\n",
       "    <tr>\n",
       "      <th>39208</th>\n",
       "      <td>42.0</td>\n",
       "    </tr>\n",
       "  </tbody>\n",
       "</table>\n",
       "<p>39209 rows × 1 columns</p>\n",
       "</div>"
      ],
      "text/plain": [
       "          0\n",
       "0       0.0\n",
       "1       0.0\n",
       "2       0.0\n",
       "3       0.0\n",
       "4       0.0\n",
       "5       0.0\n",
       "6       0.0\n",
       "7       0.0\n",
       "8       0.0\n",
       "9       0.0\n",
       "10      0.0\n",
       "11      0.0\n",
       "12      0.0\n",
       "13      0.0\n",
       "14      0.0\n",
       "15      0.0\n",
       "16      0.0\n",
       "17      0.0\n",
       "18      0.0\n",
       "19      0.0\n",
       "20      0.0\n",
       "21      0.0\n",
       "22      0.0\n",
       "23      0.0\n",
       "24      0.0\n",
       "25      0.0\n",
       "26      0.0\n",
       "27      0.0\n",
       "28      0.0\n",
       "29      0.0\n",
       "...     ...\n",
       "39179  42.0\n",
       "39180  42.0\n",
       "39181  42.0\n",
       "39182  42.0\n",
       "39183  42.0\n",
       "39184  42.0\n",
       "39185  42.0\n",
       "39186  42.0\n",
       "39187  42.0\n",
       "39188  42.0\n",
       "39189  42.0\n",
       "39190  42.0\n",
       "39191  42.0\n",
       "39192  42.0\n",
       "39193  42.0\n",
       "39194  42.0\n",
       "39195  42.0\n",
       "39196  42.0\n",
       "39197  42.0\n",
       "39198  42.0\n",
       "39199  42.0\n",
       "39200  42.0\n",
       "39201  42.0\n",
       "39202  42.0\n",
       "39203  42.0\n",
       "39204  42.0\n",
       "39205  42.0\n",
       "39206  42.0\n",
       "39207  42.0\n",
       "39208  42.0\n",
       "\n",
       "[39209 rows x 1 columns]"
      ]
     },
     "execution_count": 32,
     "metadata": {},
     "output_type": "execute_result"
    }
   ],
   "source": [
    "y_hog = pd.DataFrame(y)\n",
    "y_hog"
   ]
  },
  {
   "cell_type": "code",
   "execution_count": 33,
   "metadata": {
    "collapsed": false
   },
   "outputs": [
    {
     "data": {
      "image/png": "[encoded data removed]",
      "text/plain": [
       "<matplotlib.figure.Figure at 0x7ff00c6f2ed0>"
      ]
     },
     "metadata": {},
     "output_type": "display_data"
    }
   ],
   "source": [
    "a= y_hog.hist()"
   ]
  },
  {
   "cell_type": "code",
   "execution_count": 34,
   "metadata": {
    "collapsed": false
   },
   "outputs": [
    {
     "data": {
      "text/html": [
       "<div>\n",
       "<table border=\"1\" class=\"dataframe\">\n",
       "  <thead>\n",
       "    <tr style=\"text-align: right;\">\n",
       "      <th></th>\n",
       "      <th>0</th>\n",
       "      <th>1</th>\n",
       "      <th>2</th>\n",
       "      <th>3</th>\n",
       "      <th>4</th>\n",
       "      <th>5</th>\n",
       "      <th>6</th>\n",
       "      <th>7</th>\n",
       "      <th>8</th>\n",
       "      <th>9</th>\n",
       "      <th>...</th>\n",
       "      <th>2906</th>\n",
       "      <th>2907</th>\n",
       "      <th>2908</th>\n",
       "      <th>2909</th>\n",
       "      <th>2910</th>\n",
       "      <th>2911</th>\n",
       "      <th>2912</th>\n",
       "      <th>2913</th>\n",
       "      <th>2914</th>\n",
       "      <th>2915</th>\n",
       "    </tr>\n",
       "  </thead>\n",
       "  <tbody>\n",
       "    <tr>\n",
       "      <th>12625</th>\n",
       "      <td>0.077456</td>\n",
       "      <td>0.021332</td>\n",
       "      <td>0.077131</td>\n",
       "      <td>0.053629</td>\n",
       "      <td>0.086382</td>\n",
       "      <td>0.000000</td>\n",
       "      <td>0.000000</td>\n",
       "      <td>0.000000</td>\n",
       "      <td>0.003836</td>\n",
       "      <td>0.069898</td>\n",
       "      <td>...</td>\n",
       "      <td>0.030939</td>\n",
       "      <td>0.122161</td>\n",
       "      <td>0.000000</td>\n",
       "      <td>0.035191</td>\n",
       "      <td>0.055457</td>\n",
       "      <td>0.035819</td>\n",
       "      <td>0.040360</td>\n",
       "      <td>0.114481</td>\n",
       "      <td>0.013713</td>\n",
       "      <td>0.012215</td>\n",
       "    </tr>\n",
       "    <tr>\n",
       "      <th>12626</th>\n",
       "      <td>0.039531</td>\n",
       "      <td>0.012652</td>\n",
       "      <td>0.157713</td>\n",
       "      <td>0.020080</td>\n",
       "      <td>0.032364</td>\n",
       "      <td>0.000000</td>\n",
       "      <td>0.000000</td>\n",
       "      <td>0.000960</td>\n",
       "      <td>0.000000</td>\n",
       "      <td>0.125118</td>\n",
       "      <td>...</td>\n",
       "      <td>0.000000</td>\n",
       "      <td>0.035144</td>\n",
       "      <td>0.025385</td>\n",
       "      <td>0.006044</td>\n",
       "      <td>0.012795</td>\n",
       "      <td>0.028675</td>\n",
       "      <td>0.010273</td>\n",
       "      <td>0.000000</td>\n",
       "      <td>0.000000</td>\n",
       "      <td>0.004640</td>\n",
       "    </tr>\n",
       "    <tr>\n",
       "      <th>12627</th>\n",
       "      <td>0.028590</td>\n",
       "      <td>0.018664</td>\n",
       "      <td>0.065121</td>\n",
       "      <td>0.024937</td>\n",
       "      <td>0.130718</td>\n",
       "      <td>0.000000</td>\n",
       "      <td>0.000000</td>\n",
       "      <td>0.028223</td>\n",
       "      <td>0.035795</td>\n",
       "      <td>0.015608</td>\n",
       "      <td>...</td>\n",
       "      <td>0.021922</td>\n",
       "      <td>0.092965</td>\n",
       "      <td>0.000000</td>\n",
       "      <td>0.035935</td>\n",
       "      <td>0.000000</td>\n",
       "      <td>0.033950</td>\n",
       "      <td>0.056011</td>\n",
       "      <td>0.000000</td>\n",
       "      <td>0.010660</td>\n",
       "      <td>0.064340</td>\n",
       "    </tr>\n",
       "    <tr>\n",
       "      <th>12628</th>\n",
       "      <td>0.027729</td>\n",
       "      <td>0.002800</td>\n",
       "      <td>0.000000</td>\n",
       "      <td>0.000000</td>\n",
       "      <td>0.043393</td>\n",
       "      <td>0.034292</td>\n",
       "      <td>0.018724</td>\n",
       "      <td>0.017540</td>\n",
       "      <td>0.000000</td>\n",
       "      <td>0.064669</td>\n",
       "      <td>...</td>\n",
       "      <td>0.020043</td>\n",
       "      <td>0.092382</td>\n",
       "      <td>0.000000</td>\n",
       "      <td>0.009313</td>\n",
       "      <td>0.000000</td>\n",
       "      <td>0.016396</td>\n",
       "      <td>0.000000</td>\n",
       "      <td>0.006640</td>\n",
       "      <td>0.053852</td>\n",
       "      <td>0.011477</td>\n",
       "    </tr>\n",
       "    <tr>\n",
       "      <th>12629</th>\n",
       "      <td>0.057895</td>\n",
       "      <td>0.012640</td>\n",
       "      <td>0.000000</td>\n",
       "      <td>0.023053</td>\n",
       "      <td>0.053999</td>\n",
       "      <td>0.016823</td>\n",
       "      <td>0.000000</td>\n",
       "      <td>0.025690</td>\n",
       "      <td>0.000000</td>\n",
       "      <td>0.088298</td>\n",
       "      <td>...</td>\n",
       "      <td>0.018421</td>\n",
       "      <td>0.016075</td>\n",
       "      <td>0.000000</td>\n",
       "      <td>0.044859</td>\n",
       "      <td>0.000000</td>\n",
       "      <td>0.102885</td>\n",
       "      <td>0.016367</td>\n",
       "      <td>0.043738</td>\n",
       "      <td>0.018543</td>\n",
       "      <td>0.000000</td>\n",
       "    </tr>\n",
       "  </tbody>\n",
       "</table>\n",
       "<p>5 rows × 2916 columns</p>\n",
       "</div>"
      ],
      "text/plain": [
       "           0         1         2         3         4         5         6     \\\n",
       "12625  0.077456  0.021332  0.077131  0.053629  0.086382  0.000000  0.000000   \n",
       "12626  0.039531  0.012652  0.157713  0.020080  0.032364  0.000000  0.000000   \n",
       "12627  0.028590  0.018664  0.065121  0.024937  0.130718  0.000000  0.000000   \n",
       "12628  0.027729  0.002800  0.000000  0.000000  0.043393  0.034292  0.018724   \n",
       "12629  0.057895  0.012640  0.000000  0.023053  0.053999  0.016823  0.000000   \n",
       "\n",
       "           7         8         9       ...         2906      2907      2908  \\\n",
       "12625  0.000000  0.003836  0.069898    ...     0.030939  0.122161  0.000000   \n",
       "12626  0.000960  0.000000  0.125118    ...     0.000000  0.035144  0.025385   \n",
       "12627  0.028223  0.035795  0.015608    ...     0.021922  0.092965  0.000000   \n",
       "12628  0.017540  0.000000  0.064669    ...     0.020043  0.092382  0.000000   \n",
       "12629  0.025690  0.000000  0.088298    ...     0.018421  0.016075  0.000000   \n",
       "\n",
       "           2909      2910      2911      2912      2913      2914      2915  \n",
       "12625  0.035191  0.055457  0.035819  0.040360  0.114481  0.013713  0.012215  \n",
       "12626  0.006044  0.012795  0.028675  0.010273  0.000000  0.000000  0.004640  \n",
       "12627  0.035935  0.000000  0.033950  0.056011  0.000000  0.010660  0.064340  \n",
       "12628  0.009313  0.000000  0.016396  0.000000  0.006640  0.053852  0.011477  \n",
       "12629  0.044859  0.000000  0.102885  0.016367  0.043738  0.018543  0.000000  \n",
       "\n",
       "[5 rows x 2916 columns]"
      ]
     },
     "execution_count": 34,
     "metadata": {},
     "output_type": "execute_result"
    }
   ],
   "source": [
    "Xt_hog = pd.DataFrame(X_t)\n",
    "Xt_hog.tail()\n"
   ]
  },
  {
   "cell_type": "code",
   "execution_count": 35,
   "metadata": {
    "collapsed": false
   },
   "outputs": [],
   "source": [
    "for i in range(0,len(np.unique(y))):\n",
    "    yi = np.where(y==i)\n",
    "#     print(\"label: {}  \\n indices: {} \".format(i,yi))"
   ]
  },
  {
   "cell_type": "code",
   "execution_count": 36,
   "metadata": {
    "collapsed": true
   },
   "outputs": [],
   "source": [
    "Xtrain = X\n",
    "ytrain = y\n",
    "Xtest = X_t"
   ]
  },
  {
   "cell_type": "markdown",
   "metadata": {
    "collapsed": true
   },
   "source": [
    "## Classifier 1\n",
    "## SVM cross validation score"
   ]
  },
  {
   "cell_type": "code",
   "execution_count": null,
   "metadata": {
    "collapsed": false
   },
   "outputs": [],
   "source": [
    "clf = LinearSVC()\n",
    "clf.fit(Xtrain,ytrain)\n",
    "scores = cross_val_score(clf,Xtest,ytest)"
   ]
  },
  {
   "cell_type": "code",
   "execution_count": null,
   "metadata": {
    "collapsed": false
   },
   "outputs": [],
   "source": [
    "scores.mean() "
   ]
  },
  {
   "cell_type": "markdown",
   "metadata": {},
   "source": [
    "## Classifier 2\n",
    "## One vs. One Classifier"
   ]
  },
  {
   "cell_type": "code",
   "execution_count": null,
   "metadata": {
    "collapsed": false
   },
   "outputs": [],
   "source": [
    "ovo = OneVsOneClassifier(LinearSVC(random_state=0)).fit(Xtrain,ytrain)"
   ]
  },
  {
   "cell_type": "code",
   "execution_count": null,
   "metadata": {
    "collapsed": false
   },
   "outputs": [],
   "source": [
    "print(Xtrain.shape, ytrain.shape)\n",
    "print(Xtest.shape, ytest.shape)"
   ]
  },
  {
   "cell_type": "markdown",
   "metadata": {},
   "source": [
    "## Classifier 1\n",
    "## Linear SVC"
   ]
  },
  {
   "cell_type": "code",
   "execution_count": null,
   "metadata": {
    "collapsed": false
   },
   "outputs": [],
   "source": [
    "clf = LinearSVC()\n",
    "clf.fit(Xtrain,ytrain)"
   ]
  },
  {
   "cell_type": "code",
   "execution_count": null,
   "metadata": {
    "collapsed": false
   },
   "outputs": [],
   "source": [
    "clf.score(Xtest,ytest)"
   ]
  },
  {
   "cell_type": "code",
   "execution_count": null,
   "metadata": {
    "collapsed": false
   },
   "outputs": [],
   "source": [
    "clf.predict(X[38729,:])"
   ]
  },
  {
   "cell_type": "markdown",
   "metadata": {},
   "source": [
    "## Multi-layer Perceptron "
   ]
  },
  {
   "cell_type": "code",
   "execution_count": 24,
   "metadata": {
    "collapsed": false
   },
   "outputs": [
    {
     "name": "stdout",
     "output_type": "stream",
     "text": [
      "[INFO] loading classifier: MLP =200 trained on HoG features...\n",
      "[INFO] Classifer is loaded as instance ::mlp::\n"
     ]
    }
   ],
   "source": [
    "# MLP\n",
    "\n",
    "if os.path.isfile(\"clf/clf_mlp_hog.pkl\"):\n",
    "    print(\"[INFO] loading classifier: MLP =200 trained on HoG features...\")\n",
    "    mlp= joblib.load(\"clf/clf_mlp_hog.pkl\")\n",
    "    print(\"[INFO] Classifer is loaded as instance ::mlp::\")\n",
    "else:\n",
    "    print(\"[INFO] pre-trained classifier not found. \\n Training Classifier \\MLP = 200\")\n",
    "    mlp = MLPClassifier(hidden_layer_sizes=(200,))\n",
    "    mlp.fit(Xtrain,ytrain)\n",
    "    print(\"[INFO] Succefully trained the classsifier. \\n Saving the classifier for further use\")\n",
    "    joblib.dump(mlp, 'clf/clf_mlp_hog.pkl') \n",
    "    print(\"[INFO] Classifier Saved\")\n"
   ]
  },
  {
   "cell_type": "code",
   "execution_count": 25,
   "metadata": {
    "collapsed": false
   },
   "outputs": [
    {
     "data": {
      "text/plain": [
       "1.0"
      ]
     },
     "execution_count": 25,
     "metadata": {},
     "output_type": "execute_result"
    }
   ],
   "source": [
    "mlp.score(Xtrain,ytrain)"
   ]
  },
  {
   "cell_type": "code",
   "execution_count": 26,
   "metadata": {
    "collapsed": false
   },
   "outputs": [
    {
     "name": "stderr",
     "output_type": "stream",
     "text": [
      "/home/shravankumar/anaconda2/lib/python2.7/site-packages/sklearn/utils/validation.py:395: DeprecationWarning: Passing 1d arrays as data is deprecated in 0.17 and will raise ValueError in 0.19. Reshape your data either using X.reshape(-1, 1) if your data has a single feature or X.reshape(1, -1) if it contains a single sample.\n",
      "  DeprecationWarning)\n"
     ]
    },
    {
     "data": {
      "text/plain": [
       "array([ 41.])"
      ]
     },
     "execution_count": 26,
     "metadata": {},
     "output_type": "execute_result"
    }
   ],
   "source": [
    "mlp.predict(X[38729])"
   ]
  },
  {
   "cell_type": "code",
   "execution_count": 29,
   "metadata": {
    "collapsed": false
   },
   "outputs": [],
   "source": [
    "y_pred = mlp.predict(Xtest)"
   ]
  },
  {
   "cell_type": "code",
   "execution_count": 30,
   "metadata": {
    "collapsed": false
   },
   "outputs": [
    {
     "data": {
      "text/plain": [
       "array([ 16.,   1.,  38., ...,   3.,   7.,  10.])"
      ]
     },
     "execution_count": 30,
     "metadata": {},
     "output_type": "execute_result"
    }
   ],
   "source": [
    "y_pred"
   ]
  },
  {
   "cell_type": "code",
   "execution_count": 33,
   "metadata": {
    "collapsed": false
   },
   "outputs": [],
   "source": [
    "import csv\n",
    "with open('submission.csv', \"wb\") as csv_file:\n",
    "        writer = csv.writer(csv_file, delimiter=';')\n",
    "        for line in zip(timg,y_pred):\n",
    "            writer.writerow(line)"
   ]
  },
  {
   "cell_type": "code",
   "execution_count": 22,
   "metadata": {
    "collapsed": false
   },
   "outputs": [],
   "source": [
    "names = [\n",
    "    \"Nearest Neighbors\",\n",
    "    \"Linear SVM\", \n",
    "    \"Decision Tree\", \n",
    "    \"Neural Net\",\n",
    "    \"Naive Bayes\",\n",
    "    \"QDA\"\n",
    "    ]\n",
    "\n",
    "classifiers = [\n",
    "    KNeighborsClassifier(3),\n",
    "    SVC(kernel=\"linear\", C=0.025),\n",
    "    DecisionTreeClassifier(max_depth=5),\n",
    "    MLPClassifier(hidden_layer_sizes=(200,)),\n",
    "    GaussianNB(),\n",
    "    QuadraticDiscriminantAnalysis()\n",
    "    ]\n",
    "\n",
    "\n",
    "def getAccuracyOnTestData(X, Y):\n",
    "    for name, clf in zip(names, classifiers):\n",
    "        Xtrain, Xtest, Ytrain, Ytest = train_test_split(X,Y,test_size=0.2,train_size=0.8)\n",
    "        print(\"==========================\")\n",
    "        print \"Building %s Classifier\"%name\n",
    "        print(\"==========================\")\n",
    "        clf.fit(Xtrain, Ytrain)\n",
    "        \n",
    "        print(\"==========================\")\n",
    "        print \"Accuracy Score With %s:%s\" %(name,cross_val_score(clf,Xtest,Ytest))\n",
    "        print(\"==========================\")"
   ]
  },
  {
   "cell_type": "code",
   "execution_count": 23,
   "metadata": {
    "collapsed": false
   },
   "outputs": [
    {
     "name": "stdout",
     "output_type": "stream",
     "text": [
      "Building Nearest Neighbors Classifier\n",
      "Accuracy Score With Nearest Neighbors:[ 0.78821293  0.78820375  0.78546713]\n",
      "Building Linear SVM Classifier\n",
      "Accuracy Score With Linear SVM:[ 0.71700266  0.71013384  0.71632025]\n",
      "Building Decision Tree Classifier\n",
      "Accuracy Score With Decision Tree:[ 0.29870624  0.29652274  0.29765114]\n",
      "Building Neural Net Classifier\n",
      "Accuracy Score With Neural Net:[ 0.95703422  0.94646272  0.95071236]\n",
      "Building Naive Bayes Classifier\n",
      "Accuracy Score With Naive Bayes:[ 0.85534831  0.85583174  0.83269231]\n",
      "Building QDA Classifier\n"
     ]
    },
    {
     "name": "stderr",
     "output_type": "stream",
     "text": [
      "/home/shravankumar/anaconda2/lib/python2.7/site-packages/sklearn/discriminant_analysis.py:695: UserWarning: Variables are collinear\n",
      "  warnings.warn(\"Variables are collinear\")\n"
     ]
    },
    {
     "name": "stdout",
     "output_type": "stream",
     "text": [
      "Accuracy Score With QDA:[ 0.04564473  0.04816514  0.04659222]\n"
     ]
    }
   ],
   "source": [
    "getAccuracyOnTestData(X,y)"
   ]
  },
  {
   "cell_type": "code",
   "execution_count": null,
   "metadata": {
    "collapsed": true
   },
   "outputs": [],
   "source": [
    "if os.path.isfile(\"clf/clf_knn1_clrhist.pkl\"):\n",
    "    print(\"[INFO] loading classifier: KNN =1 trained on color histogram features...\")\n",
    "    model= joblib.load(\"clf/clf_knn1_clrhist.pkl\")\n",
    "    print(\"[INFO] Classifer is loaded as instance ::model::\")\n",
    "else:\n",
    "    print(\"[INFO] pre-trained classifier not found. \\n Training Classifier \\KNN = 1\")\n",
    "    model = KNeighborsClassifier(n_neighbors=1,n_jobs=2)\n",
    "    model.fit(trainFeat, trainLabels)\n",
    "    print(\"[INFO] Succefully trained the classsifier. \\n Saving the classifier for further use\")\n",
    "    joblib.dump(model, 'clf/clf_knn1_clrhist.pkl') \n",
    "    print(\"[INFO] Classifier Saved\")"
   ]
  }
 ],
 "metadata": {
  "kernelspec": {
   "display_name": "Python [conda root]",
   "language": "python",
   "name": "conda-root-py"
  },
  "language_info": {
   "codemirror_mode": {
    "name": "ipython",
    "version": 2
   },
   "file_extension": ".py",
   "mimetype": "text/x-python",
   "name": "python",
   "nbconvert_exporter": "python",
   "pygments_lexer": "ipython2",
   "version": "2.7.12"
  }
 },
 "nbformat": 4,
 "nbformat_minor": 0
}
